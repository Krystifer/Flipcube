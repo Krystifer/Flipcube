{
 "cells": [
  {
   "cell_type": "markdown",
   "metadata": {},
   "source": [
    "# The flipping cylinder"
   ]
  },
  {
   "cell_type": "code",
   "execution_count": 1,
   "metadata": {},
   "outputs": [],
   "source": [
    "import numpy as np\n",
    "import matplotlib.pyplot as plt\n",
    "import itertools as it\n",
    "import json\n",
    "from tqdm import tqdm_notebook as tqdm\n",
    "import matplotlib.patches as patches\n",
    "import collections\n",
    "from random import randint\n",
    "import random\n",
    "from IPython.display import Image"
   ]
  },
  {
   "cell_type": "code",
   "execution_count": 2,
   "metadata": {},
   "outputs": [
    {
     "data": {
      "text/html": [
       "<img src=\"flip_cube.jpg\" width=\"300\" height=\"300\"/>"
      ],
      "text/plain": [
       "<IPython.core.display.Image object>"
      ]
     },
     "execution_count": 2,
     "metadata": {},
     "output_type": "execute_result"
    }
   ],
   "source": [
    "Image(url= \"flip_cube.jpg\", width=300, height=300)"
   ]
  },
  {
   "cell_type": "code",
   "execution_count": 3,
   "metadata": {},
   "outputs": [],
   "source": [
    "colors = {'g': 'green',\n",
    "          'b': 'blue',\n",
    "          'y': 'yellow',\n",
    "          'p': 'purple',\n",
    "          's': 'grey',\n",
    "          'o': 'orange',\n",
    "          'w': 'white',\n",
    "          'r': 'red'  \n",
    "        }"
   ]
  },
  {
   "cell_type": "code",
   "execution_count": 4,
   "metadata": {
    "format": "row"
   },
   "outputs": [],
   "source": [
    "diskColors = [\"g\", \"b\"]\n",
    "sideColors = [\"y\", \"p\", \"s\", \"o\", \"w\", \"r\"]"
   ]
  },
  {
   "cell_type": "code",
   "execution_count": 5,
   "metadata": {},
   "outputs": [],
   "source": [
    "pieces =  it.chain.from_iterable(zip(diskColors,[x,x]) for x in sideColors)  "
   ]
  },
  {
   "cell_type": "code",
   "execution_count": 6,
   "metadata": {},
   "outputs": [],
   "source": [
    "config = it.permutations(pieces)"
   ]
  },
  {
   "cell_type": "code",
   "execution_count": 7,
   "metadata": {},
   "outputs": [],
   "source": [
    "start = list(next(config)) "
   ]
  },
  {
   "cell_type": "code",
   "execution_count": 8,
   "metadata": {},
   "outputs": [],
   "source": [
    "target = [('g', 'y'),\n",
    " ('g', 'p'),\n",
    " ('g', 'r'),\n",
    " ('g', 'w'),\n",
    " ('g', 's'),\n",
    " ('g', 'o'),\n",
    " ('b', 'y'),\n",
    " ('b', 'p'),\n",
    " ('b', 'r'),\n",
    " ('b', 'w'),\n",
    " ('b', 's'),\n",
    " ('b', 'o')]"
   ]
  },
  {
   "cell_type": "code",
   "execution_count": 9,
   "metadata": {},
   "outputs": [],
   "source": [
    "start = [('b', 'p'),\n",
    " ('b', 'y'),\n",
    " ('b', 's'),\n",
    " ('b', 'r'),\n",
    " ('b', 'w'),\n",
    " ('b', 'o'),\n",
    " ('g', 'w'),\n",
    " ('g', 'y'),\n",
    " ('g', 'r'),\n",
    " ('g', 's'),\n",
    " ('g', 'p'),\n",
    " ('g', 'o')]"
   ]
  },
  {
   "cell_type": "code",
   "execution_count": 10,
   "metadata": {},
   "outputs": [],
   "source": [
    "def showConfig(cf):\n",
    "    \"graphics representation of the puzzle\"\n",
    "    tt = [a[0] for a in cf][0:6]  \n",
    "    mt = [a[1] for a in cf][0:6]\n",
    "    mb = [a[1] for a in cf][6:12]\n",
    "    bb = [a[0] for a in cf][6:12] \n",
    "    \n",
    "    ax1=plt.subplot(111,aspect='equal')\n",
    "    ls = tt + mt + mb + bb\n",
    "    dx, dy = 1/6, 1/4\n",
    "    pieces = []\n",
    "    for j in range(24):\n",
    "        x, cnt = (j%6)/6, j//6+1\n",
    "        color = colors[ls[j]]\n",
    "        p = patches.Rectangle(\n",
    "                    (x,1-cnt/4), dx,dy, edgecolor=\"white\", facecolor=color, fill=True,linewidth=0.5 )\n",
    "        pieces.append(p)\n",
    "    \n",
    "    for p in pieces: ax1.add_patch(p)\n",
    "    plt.axis('off')\n",
    "    plt.show()   "
   ]
  },
  {
   "cell_type": "code",
   "execution_count": 11,
   "metadata": {},
   "outputs": [
    {
     "data": {
      "image/png": "[encoded data removed]",
      "text/plain": [
       "<Figure size 432x288 with 1 Axes>"
      ]
     },
     "metadata": {},
     "output_type": "display_data"
    }
   ],
   "source": [
    "showConfig(start)"
   ]
  },
  {
   "cell_type": "code",
   "execution_count": 12,
   "metadata": {},
   "outputs": [
    {
     "data": {
      "image/png": "[encoded data removed]",
      "text/plain": [
       "<Figure size 432x288 with 1 Axes>"
      ]
     },
     "metadata": {},
     "output_type": "display_data"
    }
   ],
   "source": [
    "showConfig(target)"
   ]
  },
  {
   "cell_type": "markdown",
   "metadata": {},
   "source": [
    "## Operations affecting a given configuration "
   ]
  },
  {
   "cell_type": "code",
   "execution_count": 13,
   "metadata": {},
   "outputs": [],
   "source": [
    "def halfFlip(cf):\n",
    "    lst = cf*1\n",
    "    lst[0],lst[1],lst[2],lst[6],lst[7],lst[8] = lst[8],lst[7],lst[6], lst[2], lst[1], lst[0]\n",
    "    return lst"
   ]
  },
  {
   "cell_type": "code",
   "execution_count": 14,
   "metadata": {},
   "outputs": [],
   "source": [
    "def totalRot(n, cf):\n",
    "    t, b = cf[0:6], cf[6:12]\n",
    "    t, b = collections.deque(t), collections.deque(b)\n",
    "    t.rotate(n)\n",
    "    b.rotate(n)\n",
    "    return list(t+b)"
   ]
  },
  {
   "cell_type": "code",
   "execution_count": 15,
   "metadata": {
    "format": "column"
   },
   "outputs": [],
   "source": [
    "def topRot(n, cf):\n",
    "    t, b = cf[0:6], cf[6:12]\n",
    "    t, b = collections.deque(t), collections.deque(b)\n",
    "    t.rotate(n)\n",
    "    b.rotate(0)\n",
    "    return list(t+b)"
   ]
  },
  {
   "cell_type": "code",
   "execution_count": 16,
   "metadata": {},
   "outputs": [],
   "source": [
    "def bottRot(n, cf):\n",
    "    t, b = cf[0:6], cf[6:12]\n",
    "    t, b = collections.deque(t), collections.deque(b)\n",
    "    t.rotate(0)\n",
    "    b.rotate(n)\n",
    "    return list(t+b)"
   ]
  },
  {
   "cell_type": "code",
   "execution_count": 17,
   "metadata": {},
   "outputs": [],
   "source": [
    "def flip(cf):\n",
    "    cf.reverse()\n",
    "    return cf"
   ]
  },
  {
   "cell_type": "markdown",
   "metadata": {},
   "source": [
    "Now, a given configuration defines a  class of equivalence in a natural way by means of flipping a rotating the cylinder as a whole. "
   ]
  },
  {
   "cell_type": "code",
   "execution_count": 18,
   "metadata": {},
   "outputs": [],
   "source": [
    "def equiv_class(cf):\n",
    "    \"flippings and  (whole) rotations of a given configuration of the  puzzel \"\n",
    "    ec = []\n",
    "    for n in range(6):\n",
    "        tR = totalRot(n,cf)\n",
    "        ec.append(tR)\n",
    "        tR.reverse()\n",
    "        ec.append(tR)\n",
    "    return ec"
   ]
  },
  {
   "cell_type": "code",
   "execution_count": 19,
   "metadata": {},
   "outputs": [],
   "source": [
    "def check_identity(x,y):\n",
    "    d, S = False, equiv_class(y)\n",
    "    if S.count(x) > 0: d = True\n",
    "    return d"
   ]
  },
  {
   "cell_type": "markdown",
   "metadata": {},
   "source": [
    "## The metric space"
   ]
  },
  {
   "cell_type": "markdown",
   "metadata": {},
   "source": [
    "If  *cf* and  *cg* are given configurations, then the geodesic distance,    defined as the minimum number of operations  necessary to go from *cf* to *cg*, is a metric in the configuration space. Now, the geodesic distance is hard to calculate.   "
   ]
  },
  {
   "cell_type": "code",
   "execution_count": 20,
   "metadata": {},
   "outputs": [],
   "source": [
    "def sphere(cf):\n",
    "    \"sphere of radius 1 centered at cf\"\n",
    "    sph = []\n",
    "    tRp, tRm = topRot(1, cf), topRot(-1, cf)\n",
    "    bRp, bRm = bottRot(1, cf), bottRot(-1, cf)\n",
    "    sph.append(tRp)\n",
    "    sph.append(tRm)\n",
    "    sph.append(bRp)\n",
    "    sph.append(bRm)\n",
    "    for n in range(3):\n",
    "        totalR= totalRot(n, cf)\n",
    "        sph.append(halfFlip(totalR))\n",
    "    return sph   "
   ]
  },
  {
   "cell_type": "code",
   "execution_count": 21,
   "metadata": {},
   "outputs": [],
   "source": [
    "def dist(x,y):\n",
    "    \"lexicographic distance between two points in the configuraion space\"\n",
    "    def dist_help(x,y):\n",
    "        d = 0\n",
    "        for n in range(12):\n",
    "            if x[n] != y[n]: d= d+1\n",
    "        return d\n",
    "    EC = equiv_class(y) \n",
    "    dt = [dist_help(x,z) for z in EC]\n",
    "    return min(dt)"
   ]
  },
  {
   "cell_type": "markdown",
   "metadata": {},
   "source": [
    "## Random walk"
   ]
  },
  {
   "cell_type": "markdown",
   "metadata": {},
   "source": [
    "A random walk starting at *start*  hitting the target in *nn* steps"
   ]
  },
  {
   "cell_type": "code",
   "execution_count": 22,
   "metadata": {},
   "outputs": [],
   "source": [
    "def drunkard_walk(n, init):\n",
    "    \"randon walk of n steps starting in init in the configuration space\"\n",
    "    trace = []\n",
    "    z = init\n",
    "    for i in range(n):\n",
    "        nz = random.choice(sphere(z))\n",
    "        trace.append(nz)\n",
    "        z = nz\n",
    "    return trace"
   ]
  },
  {
   "cell_type": "code",
   "execution_count": 23,
   "metadata": {},
   "outputs": [
    {
     "data": {
      "text/plain": [
       "1"
      ]
     },
     "execution_count": 23,
     "metadata": {},
     "output_type": "execute_result"
    }
   ],
   "source": [
    "random.seed(10)\n",
    "nn = 5000000 \n",
    "trace = drunkard_walk(nn, start)\n",
    "len([x for x in trace if check_identity(x, target)])"
   ]
  },
  {
   "cell_type": "markdown",
   "metadata": {},
   "source": [
    "## Experimental\n",
    "Not working yet. Indeed nothing is working"
   ]
  },
  {
   "cell_type": "code",
   "execution_count": 24,
   "metadata": {},
   "outputs": [],
   "source": [
    "def check(A):\n",
    "    '''\n",
    "    check whether A contains repeated elements. It returns a list of pairs (cf,cg) of \n",
    "    configurations such that cf belongs to the equivalence class of cg\n",
    "    '''\n",
    "    A2 = list(it.combinations(A,2))\n",
    "    B =  it.starmap(check_identity,A2)\n",
    "    C = list(it.compress(A2,B)) \n",
    "    return C"
   ]
  },
  {
   "cell_type": "code",
   "execution_count": 25,
   "metadata": {},
   "outputs": [],
   "source": [
    "def getRid_dup(duplicate): \n",
    "    final_list = [] \n",
    "    for num in duplicate: \n",
    "        if num not in final_list: \n",
    "            final_list.append(num)        \n",
    "    return final_list "
   ]
  },
  {
   "cell_type": "code",
   "execution_count": 26,
   "metadata": {},
   "outputs": [],
   "source": [
    "def simplify(A):\n",
    "    D = getRid_dup([x[0] for x in check(A)])\n",
    "    if len(D) >0 :\n",
    "        for x in D: A.remove(x)\n",
    "    return A"
   ]
  },
  {
   "cell_type": "markdown",
   "metadata": {},
   "source": [
    "## Triangulation"
   ]
  },
  {
   "cell_type": "code",
   "execution_count": 38,
   "metadata": {},
   "outputs": [],
   "source": [
    "def next_sphere(S0,S1):\n",
    "    S = list(it.chain.from_iterable(sphere(x) for x in S1))\n",
    "    W = list(it.chain.from_iterable(equiv_class(x)  for x in S0)) \n",
    "    for x in W: \n",
    "        if x in S: S.remove(x)  \n",
    "    return  getRid_dup(S)"
   ]
  },
  {
   "cell_type": "code",
   "execution_count": 39,
   "metadata": {},
   "outputs": [],
   "source": [
    "def n_sphere(n, cf):\n",
    "    \"sphere of radius n centered at cf\"\n",
    "    S0 = [cf]\n",
    "    S1 = sphere(cf)\n",
    "    k = 1\n",
    "    while k < n:\n",
    "        S2 = next_sphere(S0,S1)\n",
    "        S0 = S1\n",
    "        S1 = S2\n",
    "        k = k+1\n",
    "    return  getRid_dup(S1)"
   ]
  },
  {
   "cell_type": "markdown",
   "metadata": {},
   "source": [
    "A specific random walk of 10000 steps starting at *start* hits the *T5* sphere 4 times"
   ]
  },
  {
   "cell_type": "code",
   "execution_count": 40,
   "metadata": {},
   "outputs": [],
   "source": [
    "T0 = [target]\n",
    "T1 = sphere(target)\n",
    "T2 = simplify(next_sphere(T0,T1))\n",
    "T3 = simplify(next_sphere(T1,T2))\n",
    "T4 = simplify(next_sphere(T2,T3))\n",
    "T5 = simplify(next_sphere(T3,T4))"
   ]
  },
  {
   "cell_type": "code",
   "execution_count": 41,
   "metadata": {},
   "outputs": [],
   "source": [
    "W = list(it.chain.from_iterable(equiv_class(x)  for x in T5)) "
   ]
  },
  {
   "cell_type": "code",
   "execution_count": 42,
   "metadata": {},
   "outputs": [
    {
     "data": {
      "text/plain": [
       "4"
      ]
     },
     "execution_count": 42,
     "metadata": {},
     "output_type": "execute_result"
    }
   ],
   "source": [
    "random.seed(6)\n",
    "nn = 10000 \n",
    "trace = drunkard_walk(nn, start)\n",
    "sum([trace.count(x) for x in W])"
   ]
  },
  {
   "cell_type": "markdown",
   "metadata": {},
   "source": [
    "Although the *target* and the *start*  seem  to be more than 15 steps  away, but less than 18. Notice that simplify is a very costly operation. "
   ]
  },
  {
   "cell_type": "code",
   "execution_count": 34,
   "metadata": {},
   "outputs": [],
   "source": [
    "S0 = [start]\n",
    "S1  = sphere(start)\n",
    "S2 =  simplify(next_sphere(S0,S1)) \n",
    "S3 =  simplify(next_sphere(S1,S2)) \n",
    "S4 =  simplify(next_sphere(S2,S3)) \n",
    "S5 =  simplify(next_sphere(S3,S4)) "
   ]
  },
  {
   "cell_type": "code",
   "execution_count": 98,
   "metadata": {},
   "outputs": [],
   "source": [
    "S6 =   next_sphere(S4,S5)  "
   ]
  },
  {
   "cell_type": "code",
   "execution_count": 43,
   "metadata": {},
   "outputs": [],
   "source": [
    "T6 =   next_sphere(T4,T5)  "
   ]
  },
  {
   "cell_type": "code",
   "execution_count": 122,
   "metadata": {},
   "outputs": [],
   "source": [
    "random.seed(7)"
   ]
  },
  {
   "cell_type": "code",
   "execution_count": 125,
   "metadata": {},
   "outputs": [],
   "source": [
    "mpt = random.choice(T6)\n",
    "M0 = [mpt]\n",
    "M1 = sphere(mpt)\n",
    "M2 = next_sphere(M0,M1) \n",
    "M3 = next_sphere(M1,M2) \n",
    "M4 = next_sphere(M2,M3)   \n",
    "M5 = next_sphere(M3, M4) \n",
    "M6 = next_sphere(M4, M5) \n",
    "WW = it.chain.from_iterable([M1,M2,M3,M4,M5, M6])   \n",
    "W = list(it.chain.from_iterable(equiv_class(x)  for x in WW)) "
   ]
  },
  {
   "cell_type": "code",
   "execution_count": 126,
   "metadata": {},
   "outputs": [
    {
     "data": {
      "text/plain": [
       "12"
      ]
     },
     "execution_count": 126,
     "metadata": {},
     "output_type": "execute_result"
    }
   ],
   "source": [
    "sum([S6.count(x) for x in W])"
   ]
  },
  {
   "cell_type": "code",
   "execution_count": 131,
   "metadata": {},
   "outputs": [],
   "source": [
    "def check_intersection(S):\n",
    "    n = len(S)\n",
    "    m = np.zeros((n,n))\n",
    "    for i in range(n):\n",
    "        for j in range(n):\n",
    "            H, K = sphere(S[i]), sphere(S[j])\n",
    "            m[i,j] = [dist(x,y) for x in H for y in K].count(0) \n",
    "    return m\n",
    "    "
   ]
  },
  {
   "cell_type": "code",
   "execution_count": 132,
   "metadata": {},
   "outputs": [
    {
     "data": {
      "text/plain": [
       "array([[0., 0., 0., 1., 0., 0., 0.],\n",
       "       [0., 0., 1., 0., 0., 0., 0.],\n",
       "       [0., 1., 0., 0., 0., 0., 0.],\n",
       "       [1., 0., 0., 0., 0., 0., 0.],\n",
       "       [0., 0., 0., 0., 0., 0., 0.],\n",
       "       [0., 0., 0., 0., 0., 0., 0.],\n",
       "       [0., 0., 0., 0., 0., 0., 0.]])"
      ]
     },
     "execution_count": 132,
     "metadata": {},
     "output_type": "execute_result"
    }
   ],
   "source": [
    " check_intersection()"
   ]
  },
  {
   "cell_type": "code",
   "execution_count": null,
   "metadata": {},
   "outputs": [],
   "source": []
  }
 ],
 "metadata": {
  "kernelspec": {
   "display_name": "Python 3",
   "language": "python",
   "name": "python3"
  },
  "language_info": {
   "codemirror_mode": {
    "name": "ipython",
    "version": 3
   },
   "file_extension": ".py",
   "mimetype": "text/x-python",
   "name": "python",
   "nbconvert_exporter": "python",
   "pygments_lexer": "ipython3",
   "version": "3.5.5"
  }
 },
 "nbformat": 4,
 "nbformat_minor": 2
}
