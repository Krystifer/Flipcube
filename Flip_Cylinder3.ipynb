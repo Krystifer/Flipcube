{
 "cells": [
  {
   "cell_type": "code",
   "execution_count": 1,
   "metadata": {},
   "outputs": [],
   "source": [
    "import numpy as np\n",
    "import matplotlib.pyplot as plt\n",
    "import itertools as it\n",
    "import json\n",
    "from tqdm import tqdm_notebook as tqdm\n",
    "import matplotlib.patches as patches\n",
    "import collections\n",
    "from random import randint\n",
    "import random\n",
    "from IPython.display import Image"
   ]
  },
  {
   "cell_type": "code",
   "execution_count": 2,
   "metadata": {},
   "outputs": [
    {
     "data": {
      "text/html": [
       "<img src=\"flip_cube.jpg\" width=\"300\" height=\"300\"/>"
      ],
      "text/plain": [
       "<IPython.core.display.Image object>"
      ]
     },
     "execution_count": 2,
     "metadata": {},
     "output_type": "execute_result"
    }
   ],
   "source": [
    "Image(url= \"flip_cube.jpg\", width=300, height=300)"
   ]
  },
  {
   "cell_type": "code",
   "execution_count": 3,
   "metadata": {},
   "outputs": [],
   "source": [
    "colors = {'g': 'green',\n",
    "          'b': 'blue',\n",
    "          'y': 'yellow',\n",
    "          'p': 'purple',\n",
    "          's': 'grey',\n",
    "          'o': 'orange',\n",
    "          'w': 'white',\n",
    "          'r': 'red'  \n",
    "        }"
   ]
  },
  {
   "cell_type": "code",
   "execution_count": 4,
   "metadata": {
    "format": "row"
   },
   "outputs": [],
   "source": [
    "diskColors = [\"g\", \"b\"]\n",
    "sideColors = [\"y\", \"p\", \"s\", \"o\", \"w\", \"r\"]"
   ]
  },
  {
   "cell_type": "code",
   "execution_count": 5,
   "metadata": {},
   "outputs": [],
   "source": [
    "pieces =  it.chain.from_iterable(zip(diskColors,[x,x]) for x in sideColors)  "
   ]
  },
  {
   "cell_type": "code",
   "execution_count": 6,
   "metadata": {},
   "outputs": [],
   "source": [
    "config = it.permutations(pieces)"
   ]
  },
  {
   "cell_type": "code",
   "execution_count": 7,
   "metadata": {},
   "outputs": [],
   "source": [
    "start = list(next(config)) "
   ]
  },
  {
   "cell_type": "code",
   "execution_count": 8,
   "metadata": {},
   "outputs": [],
   "source": [
    "target = [('g', 'y'),\n",
    " ('g', 'p'),\n",
    " ('g', 'r'),\n",
    " ('g', 'w'),\n",
    " ('g', 's'),\n",
    " ('g', 'o'),\n",
    " ('b', 'y'),\n",
    " ('b', 'p'),\n",
    " ('b', 'r'),\n",
    " ('b', 'w'),\n",
    " ('b', 's'),\n",
    " ('b', 'o')]"
   ]
  },
  {
   "cell_type": "markdown",
   "metadata": {},
   "source": [
    "## Operations affecting a given configuration "
   ]
  },
  {
   "cell_type": "code",
   "execution_count": 9,
   "metadata": {},
   "outputs": [],
   "source": [
    "def shearRot(cf):\n",
    "    lst = cf*1\n",
    "    lst[0],lst[1],lst[2],lst[6],lst[7],lst[8] = lst[8],lst[7],lst[6], lst[2], lst[1], lst[0]\n",
    "    return lst"
   ]
  },
  {
   "cell_type": "code",
   "execution_count": 10,
   "metadata": {},
   "outputs": [],
   "source": [
    "def totalRot(n, cf):\n",
    "    t, b = cf[0:6], cf[6:12]\n",
    "    t, b = collections.deque(t), collections.deque(b)\n",
    "    t.rotate(n)\n",
    "    b.rotate(n)\n",
    "    return list(t+b)"
   ]
  },
  {
   "cell_type": "code",
   "execution_count": 11,
   "metadata": {
    "format": "column"
   },
   "outputs": [],
   "source": [
    "def topRot(n, cf):\n",
    "    t, b = cf[0:6], cf[6:12]\n",
    "    t, b = collections.deque(t), collections.deque(b)\n",
    "    t.rotate(n)\n",
    "    b.rotate(0)\n",
    "    return list(t+b)"
   ]
  },
  {
   "cell_type": "code",
   "execution_count": 12,
   "metadata": {},
   "outputs": [],
   "source": [
    "def bottRot(n, cf):\n",
    "    t, b = cf[0:6], cf[6:12]\n",
    "    t, b = collections.deque(t), collections.deque(b)\n",
    "    t.rotate(0)\n",
    "    b.rotate(n)\n",
    "    return list(t+b)"
   ]
  },
  {
   "cell_type": "code",
   "execution_count": null,
   "metadata": {},
   "outputs": [],
   "source": []
  },
  {
   "cell_type": "code",
   "execution_count": 13,
   "metadata": {},
   "outputs": [],
   "source": [
    "def sphere(cf):\n",
    "    \"sphere of radius 1 centered at cf\"\n",
    "    sph = []\n",
    "    tRp, tRm = topRot(1, cf), topRot(-1, cf)\n",
    "    bRp, bRm = bottRot(1, cf), bottRot(-1, cf)\n",
    "    sph.append(tRp)\n",
    "    sph.append(tRm)\n",
    "    sph.append(bRp)\n",
    "    sph.append(bRm)\n",
    "    for n in range(6):\n",
    "        totalR= totalRot(n, cf)\n",
    "        sph.append(shearRot(totalR))\n",
    "    return sph   "
   ]
  },
  {
   "cell_type": "code",
   "execution_count": 14,
   "metadata": {},
   "outputs": [],
   "source": [
    "def drunkard_walk(n):\n",
    "    \"randon walk of n steps in the configuration space\"\n",
    "    trace = []\n",
    "    z = start\n",
    "    for i in range(n):\n",
    "        nz = random.choice(sphere(z))\n",
    "        trace.append(nz)\n",
    "        z = nz\n",
    "    return trace"
   ]
  },
  {
   "cell_type": "code",
   "execution_count": 15,
   "metadata": {},
   "outputs": [],
   "source": [
    "def showConfig(cf):\n",
    "    \"graphics representation of the puzzle\"\n",
    "    tt = [a[0] for a in cf][0:6]  \n",
    "    mt = [a[1] for a in cf][0:6]\n",
    "    mb = [a[1] for a in cf][6:12]\n",
    "    bb = [a[0] for a in cf][6:12] \n",
    "    \n",
    "    ax1=plt.subplot(111,aspect='equal')\n",
    "    ls = tt + mt + mb + bb\n",
    "    dx, dy = 1/6, 1/4\n",
    "    pieces = []\n",
    "    for j in range(24):\n",
    "        x, cnt = (j%6)/6, j//6+1\n",
    "        color = colors[ls[j]]\n",
    "        p = patches.Rectangle(\n",
    "                    (x,1-cnt/4), dx,dy, edgecolor=\"white\", facecolor=color, fill=True,linewidth=0.5 )\n",
    "        pieces.append(p)\n",
    "    \n",
    "    for p in pieces: ax1.add_patch(p)\n",
    "    plt.axis('off')\n",
    "    plt.show()   "
   ]
  },
  {
   "cell_type": "code",
   "execution_count": 16,
   "metadata": {},
   "outputs": [],
   "source": [
    "def equiv_class(cf):\n",
    "    \"flipping and whole rotations of a given configuration of the  puzzel \"\n",
    "    ec = []\n",
    "    for n in range(6):\n",
    "        ec.append(totalRot(n,cf))\n",
    "    t, b = cf[6:12], cf[0:6]\n",
    "    for n in range(6):\n",
    "        ec.append(totalRot(n, t+b))\n",
    "    return ec"
   ]
  },
  {
   "cell_type": "code",
   "execution_count": 17,
   "metadata": {},
   "outputs": [],
   "source": [
    "def dist(x,y):\n",
    "    \"lexicographic distance between two points in the configutaion space\"\n",
    "    def dist_help(x,y):\n",
    "        d = 0\n",
    "        for n in range(12):\n",
    "            if x[n] != y[n]: d= d+1\n",
    "        return d\n",
    "    EC = equiv_class(y) \n",
    "    dt = [dist_help(x,z) for z in EC]\n",
    "    return min(dt)"
   ]
  },
  {
   "cell_type": "code",
   "execution_count": 18,
   "metadata": {},
   "outputs": [],
   "source": [
    "def getRid_dup(duplicate): \n",
    "    final_list = [] \n",
    "    for num in duplicate: \n",
    "        if num not in final_list: \n",
    "            final_list.append(num)        \n",
    "    return final_list "
   ]
  },
  {
   "cell_type": "code",
   "execution_count": 22,
   "metadata": {},
   "outputs": [],
   "source": [
    "def next_sphere(S0,S1):\n",
    "    S = list(it.chain.from_iterable(sphere(x) for x in S1))\n",
    "    S2 = getRid_dup(S)\n",
    "    for x in S0: S2.remove(x)   \n",
    "    return  getRid_dup(S2)"
   ]
  },
  {
   "cell_type": "code",
   "execution_count": 23,
   "metadata": {},
   "outputs": [],
   "source": [
    "def n_sphere(n, cf):\n",
    "    \"sphere of radius n centered at cf\"\n",
    "    S0 = [cf]\n",
    "    S1 = sphere(cf)\n",
    "    k = 1\n",
    "    while k < n:\n",
    "        S2 = next_sphere(S0,S1)\n",
    "        S0 = S1\n",
    "        S1 = S2\n",
    "        k = k+1\n",
    "    return  getRid_dup(S1)"
   ]
  },
  {
   "cell_type": "code",
   "execution_count": 24,
   "metadata": {
    "format": "row"
   },
   "outputs": [],
   "source": [
    "S0 = [start]\n",
    "S1 = sphere(start)\n",
    "S2 = next_sphere(S0,S1)\n",
    "S3 = next_sphere(S1,S2)\n",
    "S4 = next_sphere(S2,S3)\n",
    "S5 = next_sphere(S3,S4)\n",
    "S6 = next_sphere(S4,S5)"
   ]
  },
  {
   "cell_type": "code",
   "execution_count": 25,
   "metadata": {},
   "outputs": [],
   "source": [
    "T0 = [target]\n",
    "T1 = sphere(target)\n",
    "T2 = next_sphere(T0,T1)\n",
    "T3 = next_sphere(T1,T2)\n",
    "T4 = next_sphere(T2,T3)\n",
    "T5 = next_sphere(T3,T4)\n",
    "T6 = next_sphere(T4,T5) "
   ]
  },
  {
   "cell_type": "code",
   "execution_count": 26,
   "metadata": {},
   "outputs": [
    {
     "data": {
      "text/plain": [
       "(29687, 29687)"
      ]
     },
     "execution_count": 26,
     "metadata": {},
     "output_type": "execute_result"
    }
   ],
   "source": [
    "(len(S6), len(T6))"
   ]
  },
  {
   "cell_type": "markdown",
   "metadata": {},
   "source": [
    "## Triangulation"
   ]
  },
  {
   "cell_type": "code",
   "execution_count": 48,
   "metadata": {},
   "outputs": [],
   "source": [
    "random.seed(7)"
   ]
  },
  {
   "cell_type": "code",
   "execution_count": 49,
   "metadata": {},
   "outputs": [],
   "source": [
    "mpt = random.choice(T6)\n",
    "M0 = [mpt]\n",
    "M1 = sphere(mpt)\n",
    "M2 = next_sphere(M0,M1)\n",
    "M3 = next_sphere(M1,M2)\n",
    "M4 = next_sphere(M2,M3)    \n",
    "M5 = next_sphere(M3, M4)\n",
    "WW = list(it.chain.from_iterable([M1,M2,M3,M4,M5]) )  \n",
    "W = list(it.chain.from_iterable(equiv_class(x)  for x in WW)) "
   ]
  },
  {
   "cell_type": "code",
   "execution_count": 50,
   "metadata": {},
   "outputs": [
    {
     "data": {
      "text/plain": [
       "8"
      ]
     },
     "execution_count": 50,
     "metadata": {},
     "output_type": "execute_result"
    }
   ],
   "source": [
    "sum([S6.count(x) for x in W])"
   ]
  },
  {
   "cell_type": "code",
   "execution_count": null,
   "metadata": {},
   "outputs": [],
   "source": [
    "showConfig(start)"
   ]
  },
  {
   "cell_type": "code",
   "execution_count": null,
   "metadata": {},
   "outputs": [],
   "source": [
    "showConfig(topRot(start,1))"
   ]
  },
  {
   "cell_type": "code",
   "execution_count": null,
   "metadata": {},
   "outputs": [],
   "source": []
  },
  {
   "cell_type": "code",
   "execution_count": null,
   "metadata": {},
   "outputs": [],
   "source": []
  }
 ],
 "metadata": {
  "kernelspec": {
   "display_name": "Python 3",
   "language": "python",
   "name": "python3"
  },
  "language_info": {
   "codemirror_mode": {
    "name": "ipython",
    "version": 3
   },
   "file_extension": ".py",
   "mimetype": "text/x-python",
   "name": "python",
   "nbconvert_exporter": "python",
   "pygments_lexer": "ipython3",
   "version": "3.5.5"
  }
 },
 "nbformat": 4,
 "nbformat_minor": 2
}
