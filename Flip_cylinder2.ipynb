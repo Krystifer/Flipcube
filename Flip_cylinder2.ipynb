{
 "cells": [
  {
   "cell_type": "code",
   "execution_count": 1,
   "metadata": {},
   "outputs": [],
   "source": [
    "import numpy as np\n",
    "import matplotlib.pyplot as plt\n",
    "import itertools as it\n",
    "import json\n",
    "from tqdm import tqdm_notebook as tqdm\n",
    "import matplotlib.patches as patches\n",
    "import collections\n",
    "from random import randint\n",
    "import random"
   ]
  },
  {
   "cell_type": "code",
   "execution_count": 46,
   "metadata": {},
   "outputs": [
    {
     "data": {
      "text/html": [
       "<img src=\"flip_cube.jpg\" width=\"300\" height=\"300\"/>"
      ],
      "text/plain": [
       "<IPython.core.display.Image object>"
      ]
     },
     "execution_count": 46,
     "metadata": {},
     "output_type": "execute_result"
    }
   ],
   "source": [
    "Image(url= \"flip_cube.jpg\", width=300, height=300)"
   ]
  },
  {
   "cell_type": "code",
   "execution_count": 2,
   "metadata": {},
   "outputs": [],
   "source": [
    "colors = {'g': 'green',\n",
    "          'b': 'blue',\n",
    "          'y': 'yellow',\n",
    "          'p': 'purple',\n",
    "          's': 'grey',\n",
    "          'o': 'orange',\n",
    "          'w': 'white',\n",
    "          'r': 'red'  \n",
    "        }"
   ]
  },
  {
   "cell_type": "code",
   "execution_count": 3,
   "metadata": {},
   "outputs": [],
   "source": [
    "diskColors = [\"g\", \"b\"]\n",
    "sideColors = [\"y\", \"p\", \"s\", \"o\", \"w\", \"r\"]"
   ]
  },
  {
   "cell_type": "code",
   "execution_count": 4,
   "metadata": {},
   "outputs": [],
   "source": [
    "pieces =  it.chain.from_iterable(zip(diskColors,[x,x]) for x in sideColors)  "
   ]
  },
  {
   "cell_type": "code",
   "execution_count": 5,
   "metadata": {},
   "outputs": [],
   "source": [
    "config = it.permutations(pieces)"
   ]
  },
  {
   "cell_type": "code",
   "execution_count": 6,
   "metadata": {},
   "outputs": [],
   "source": [
    "def decomposition(lst):\n",
    "    tt = [a[0] for a in lst][0:6]  \n",
    "    mt = [a[1] for a in lst][0:6]\n",
    "    mb = [a[1] for a in lst][6:12]\n",
    "    bb = [a[0] for a in lst][6:12] \n",
    "    return (tt, mt, mb, bb)  "
   ]
  },
  {
   "cell_type": "code",
   "execution_count": 7,
   "metadata": {},
   "outputs": [],
   "source": [
    "def shearRot(ls):\n",
    "    lst = ls*1\n",
    "    lst[0],lst[1],lst[2],lst[6],lst[7],lst[8] = lst[8],lst[7],lst[6], lst[2], lst[1], lst[0]\n",
    "    return lst"
   ]
  },
  {
   "cell_type": "code",
   "execution_count": 8,
   "metadata": {},
   "outputs": [],
   "source": [
    "def totalRot(lst,n):\n",
    "    t, b = lst[0:6], lst[6:12]\n",
    "    t, b = collections.deque(t), collections.deque(b)\n",
    "    t.rotate(n)\n",
    "    b.rotate(n)\n",
    "    return list(t+b)"
   ]
  },
  {
   "cell_type": "code",
   "execution_count": 9,
   "metadata": {
    "format": "column"
   },
   "outputs": [],
   "source": [
    "def topRot(lst,n):\n",
    "    t, b = lst[0:6], lst[6:12]\n",
    "    t, b = collections.deque(t), collections.deque(b)\n",
    "    t.rotate(n)\n",
    "    b.rotate(0)\n",
    "    return list(t+b)"
   ]
  },
  {
   "cell_type": "code",
   "execution_count": 10,
   "metadata": {},
   "outputs": [],
   "source": [
    "def bottRot(lst,n):\n",
    "    t, b = lst[0:6], lst[6:12]\n",
    "    t, b = collections.deque(t), collections.deque(b)\n",
    "    t.rotate(0)\n",
    "    b.rotate(n)\n",
    "    return list(t+b)"
   ]
  },
  {
   "cell_type": "code",
   "execution_count": 11,
   "metadata": {},
   "outputs": [],
   "source": [
    "def sphere(cf):\n",
    "    sph = []\n",
    "    sph.append(shearRot(cf))\n",
    "    for n in [1,2,3,4,5]:\n",
    "        tR, bR = topRot(cf,n), bottRot(cf,n)\n",
    "        sph.append(tR)\n",
    "        sph.append(bR)\n",
    "        sph.append(shearRot(tR))\n",
    "        sph.append(shearRot(bR))\n",
    "    return sph   "
   ]
  },
  {
   "cell_type": "code",
   "execution_count": 12,
   "metadata": {},
   "outputs": [],
   "source": [
    "random.seed(2019)"
   ]
  },
  {
   "cell_type": "code",
   "execution_count": 13,
   "metadata": {},
   "outputs": [],
   "source": [
    "def next_step(cf):\n",
    "    sph = sphere(cf)\n",
    "    n = len(sph)\n",
    "    p = randint(0, n-1) \n",
    "    return sph[p]"
   ]
  },
  {
   "cell_type": "code",
   "execution_count": 14,
   "metadata": {},
   "outputs": [],
   "source": [
    "start = list(next(config)) "
   ]
  },
  {
   "cell_type": "code",
   "execution_count": 15,
   "metadata": {},
   "outputs": [],
   "source": [
    "target = [('g', 'y'),\n",
    " ('g', 'p'),\n",
    " ('g', 'r'),\n",
    " ('g', 'w'),\n",
    " ('g', 's'),\n",
    " ('g', 'o'),\n",
    " ('b', 'y'),\n",
    " ('b', 'p'),\n",
    " ('b', 'r'),\n",
    " ('b', 'w'),\n",
    " ('b', 's'),\n",
    " ('b', 'o')]"
   ]
  },
  {
   "cell_type": "code",
   "execution_count": 16,
   "metadata": {},
   "outputs": [],
   "source": [
    "def drunk_walking(n):\n",
    "    trace = []\n",
    "    z = start\n",
    "    for i in range(n):\n",
    "        nz = next_step(z)\n",
    "        trace.append(nz)\n",
    "        z = nz\n",
    "    return trace"
   ]
  },
  {
   "cell_type": "code",
   "execution_count": 17,
   "metadata": {},
   "outputs": [],
   "source": [
    "def showConfig(lst):\n",
    "    ax1=plt.subplot(111,aspect='equal')\n",
    "    tt, mt, mb, bb = decomposition(lst)\n",
    "    ls = tt + mt + mb + bb\n",
    "    dx, dy = 1/6, 1/4\n",
    "    pieces = []\n",
    "    for j in range(24):\n",
    "        x, cnt = (j%6)/6, j//6+1\n",
    "        color = colors[ls[j]]\n",
    "        p = patches.Rectangle(\n",
    "                    (x,1-cnt/4), dx,dy, edgecolor=\"white\", facecolor=color, fill=True,linewidth=0.5 )\n",
    "        pieces.append(p)\n",
    "    \n",
    "    for p in pieces: ax1.add_patch(p)\n",
    "    plt.axis('off')\n",
    "    plt.show()   "
   ]
  },
  {
   "cell_type": "code",
   "execution_count": 18,
   "metadata": {},
   "outputs": [],
   "source": [
    "def equiv_class(lst):\n",
    "    ec = []\n",
    "    for n in range(6):\n",
    "        ec.append(totalRot(lst,n))\n",
    "    t, b = lst[6:12], lst[0:6]\n",
    "    for n in range(6):\n",
    "        ec.append(totalRot(t+b,n))\n",
    "    return ec"
   ]
  },
  {
   "cell_type": "code",
   "execution_count": 19,
   "metadata": {},
   "outputs": [],
   "source": [
    "def dist_help(x,y):\n",
    "    d = 0\n",
    "    for n in range(12):\n",
    "        if x[n] != y[n]: d= d+1\n",
    "    return d\n"
   ]
  },
  {
   "cell_type": "code",
   "execution_count": 20,
   "metadata": {},
   "outputs": [],
   "source": [
    "def dist(x,y):\n",
    "    EC = equiv_class(y) \n",
    "    dt = [dist_help(x,z) for z in EC]\n",
    "    return min(dt)"
   ]
  },
  {
   "cell_type": "code",
   "execution_count": 36,
   "metadata": {},
   "outputs": [
    {
     "data": {
      "text/plain": [
       "0"
      ]
     },
     "execution_count": 36,
     "metadata": {},
     "output_type": "execute_result"
    }
   ],
   "source": [
    "trace = drunk_walking(10000000)\n",
    "distances = [dist(cf, target) for cf in trace]\n",
    "mn = distances.index(min(distances))\n",
    "min(distances)"
   ]
  },
  {
   "cell_type": "code",
   "execution_count": 37,
   "metadata": {},
   "outputs": [
    {
     "data": {
      "image/png": "[encoded data removed]",
      "text/plain": [
       "<Figure size 432x288 with 1 Axes>"
      ]
     },
     "metadata": {},
     "output_type": "display_data"
    }
   ],
   "source": [
    "showConfig(trace[mn])"
   ]
  },
  {
   "cell_type": "code",
   "execution_count": 38,
   "metadata": {},
   "outputs": [
    {
     "data": {
      "image/png": "[encoded data removed]",
      "text/plain": [
       "<Figure size 432x288 with 1 Axes>"
      ]
     },
     "metadata": {},
     "output_type": "display_data"
    }
   ],
   "source": [
    "showConfig(start)"
   ]
  }
 ],
 "metadata": {
  "kernelspec": {
   "display_name": "Python 3",
   "language": "python",
   "name": "python3"
  },
  "language_info": {
   "codemirror_mode": {
    "name": "ipython",
    "version": 3
   },
   "file_extension": ".py",
   "mimetype": "text/x-python",
   "name": "python",
   "nbconvert_exporter": "python",
   "pygments_lexer": "ipython3",
   "version": "3.5.5"
  }
 },
 "nbformat": 4,
 "nbformat_minor": 2
}
